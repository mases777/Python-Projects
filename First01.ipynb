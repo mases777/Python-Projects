{
  "nbformat": 4,
  "nbformat_minor": 0,
  "metadata": {
    "colab": {
      "provenance": [],
      "authorship_tag": "ABX9TyPjOOAcbSrqIl4aHjxKkItN",
      "include_colab_link": true
    },
    "kernelspec": {
      "name": "python3",
      "display_name": "Python 3"
    },
    "language_info": {
      "name": "python"
    }
  },
  "cells": [
    {
      "cell_type": "markdown",
      "metadata": {
        "id": "view-in-github",
        "colab_type": "text"
      },
      "source": [
        "<a href=\"https://colab.research.google.com/github/mases777/Python-Projects/blob/main/First01.ipynb\" target=\"_parent\"><img src=\"https://colab.research.google.com/assets/colab-badge.svg\" alt=\"Open In Colab\"/></a>"
      ]
    },
    {
      "cell_type": "code",
      "execution_count": 3,
      "metadata": {
        "colab": {
          "base_uri": "https://localhost:8080/"
        },
        "id": "yLOya2wEp2MA",
        "outputId": "ffeed0a3-8a11-46a8-a9a7-396da2ff871c"
      },
      "outputs": [
        {
          "output_type": "execute_result",
          "data": {
            "text/plain": [
              "86400"
            ]
          },
          "metadata": {},
          "execution_count": 3
        }
      ],
      "source": [
        "24*60*60"
      ]
    },
    {
      "cell_type": "code",
      "source": [
        "rez=45\n",
        "rez += 20\n",
        "print(rez)"
      ],
      "metadata": {
        "colab": {
          "base_uri": "https://localhost:8080/"
        },
        "id": "g_f3JWlpsYg4",
        "outputId": "56010391-1888-4b69-f1bb-96c7488612c4"
      },
      "execution_count": 6,
      "outputs": [
        {
          "output_type": "stream",
          "name": "stdout",
          "text": [
            "65\n"
          ]
        }
      ]
    },
    {
      "cell_type": "code",
      "source": [
        "print('Здравей')\n",
        "print(5*2+6)\n",
        "name=input(\"Как се казваш? \")\n",
        "print(\"Здравей, \", name)"
      ],
      "metadata": {
        "colab": {
          "base_uri": "https://localhost:8080/"
        },
        "id": "XhUX-MkZ3nJB",
        "outputId": "0a0ae6f8-a7b4-4bad-cd27-39ee4704f179"
      },
      "execution_count": 7,
      "outputs": [
        {
          "output_type": "stream",
          "name": "stdout",
          "text": [
            "Здравей\n",
            "16\n",
            "Как се казваш? Ivan\n",
            "Здравей,  Ivan\n"
          ]
        }
      ]
    },
    {
      "cell_type": "code",
      "source": [
        "a=6; b=9; f=7;\n",
        "if(a==1 or b==3 or f==4):\n",
        "  print(\"Добре\")\n",
        "else:\n",
        "  print(\"Не е добре\")\n",
        "print(\"Добре без if\")"
      ],
      "metadata": {
        "colab": {
          "base_uri": "https://localhost:8080/"
        },
        "id": "0K4ZxU8e5Y3x",
        "outputId": "e1113d61-4470-442d-eddc-832e922172dc"
      },
      "execution_count": 12,
      "outputs": [
        {
          "output_type": "stream",
          "name": "stdout",
          "text": [
            "Не е добре\n",
            "Добре без if\n"
          ]
        }
      ]
    },
    {
      "cell_type": "code",
      "source": [
        "a = input()\n",
        "if int(a) < -5:\n",
        "  print('Ниска стойност')\n",
        "elif a == '0':\n",
        "  print('Нула')\n",
        "elif int(a) <= 5:\n",
        "  print('Средна стойност')\n",
        "else:\n",
        "  print('Висока стойност')"
      ],
      "metadata": {
        "colab": {
          "base_uri": "https://localhost:8080/"
        },
        "id": "uerb5iv79jd5",
        "outputId": "7ae280b2-3bed-40ab-d5e8-0b629329c3d2"
      },
      "execution_count": 26,
      "outputs": [
        {
          "output_type": "stream",
          "name": "stdout",
          "text": [
            "0\n",
            "Нула\n"
          ]
        }
      ]
    },
    {
      "cell_type": "code",
      "source": [
        "a=10\n",
        "c=33\n",
        "x=int(input('Въведете x: '))\n",
        "if (x <= 4):\n",
        "  y = x - a\n",
        "elif (x >= 20):\n",
        "  y = x + c\n",
        "else:\n",
        "  y = x + a\n",
        "print('y = ', y)"
      ],
      "metadata": {
        "colab": {
          "base_uri": "https://localhost:8080/"
        },
        "id": "lEEG7_IiRArr",
        "outputId": "44ba1cb4-0469-46dd-d1d9-42fb7e3abe15"
      },
      "execution_count": 29,
      "outputs": [
        {
          "output_type": "stream",
          "name": "stdout",
          "text": [
            "Въведете x: 5\n",
            "y =  15\n"
          ]
        }
      ]
    }
  ]
}