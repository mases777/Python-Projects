{
  "nbformat": 4,
  "nbformat_minor": 0,
  "metadata": {
    "colab": {
      "provenance": [],
      "authorship_tag": "ABX9TyMq4+uNZ6ZbA6Dtflrzfc+X",
      "include_colab_link": true
    },
    "kernelspec": {
      "name": "python3",
      "display_name": "Python 3"
    },
    "language_info": {
      "name": "python"
    }
  },
  "cells": [
    {
      "cell_type": "markdown",
      "metadata": {
        "id": "view-in-github",
        "colab_type": "text"
      },
      "source": [
        "<a href=\"https://colab.research.google.com/github/mases777/Python-Projects/blob/main/First01.ipynb\" target=\"_parent\"><img src=\"https://colab.research.google.com/assets/colab-badge.svg\" alt=\"Open In Colab\"/></a>"
      ]
    },
    {
      "cell_type": "code",
      "execution_count": null,
      "metadata": {
        "colab": {
          "base_uri": "https://localhost:8080/"
        },
        "id": "yLOya2wEp2MA",
        "outputId": "ffeed0a3-8a11-46a8-a9a7-396da2ff871c"
      },
      "outputs": [
        {
          "output_type": "execute_result",
          "data": {
            "text/plain": [
              "86400"
            ]
          },
          "metadata": {},
          "execution_count": 3
        }
      ],
      "source": [
        "24*60*60"
      ]
    },
    {
      "cell_type": "code",
      "source": [
        "rez=45\n",
        "rez += 20\n",
        "print(rez)"
      ],
      "metadata": {
        "colab": {
          "base_uri": "https://localhost:8080/"
        },
        "id": "g_f3JWlpsYg4",
        "outputId": "56010391-1888-4b69-f1bb-96c7488612c4"
      },
      "execution_count": null,
      "outputs": [
        {
          "output_type": "stream",
          "name": "stdout",
          "text": [
            "65\n"
          ]
        }
      ]
    },
    {
      "cell_type": "code",
      "source": [
        "print('Здравей')\n",
        "print(5*2+6)\n",
        "name=input(\"Как се казваш? \")\n",
        "print(\"Здравей, \", name)"
      ],
      "metadata": {
        "colab": {
          "base_uri": "https://localhost:8080/"
        },
        "id": "XhUX-MkZ3nJB",
        "outputId": "0a0ae6f8-a7b4-4bad-cd27-39ee4704f179"
      },
      "execution_count": null,
      "outputs": [
        {
          "output_type": "stream",
          "name": "stdout",
          "text": [
            "Здравей\n",
            "16\n",
            "Как се казваш? Ivan\n",
            "Здравей,  Ivan\n"
          ]
        }
      ]
    },
    {
      "cell_type": "code",
      "source": [
        "a=6; b=9; f=7;\n",
        "if(a==1 or b==3 or f==4):\n",
        "  print(\"Добре\")\n",
        "else:\n",
        "  print(\"Не е добре\")\n",
        "print(\"Добре без if\")"
      ],
      "metadata": {
        "colab": {
          "base_uri": "https://localhost:8080/"
        },
        "id": "0K4ZxU8e5Y3x",
        "outputId": "e1113d61-4470-442d-eddc-832e922172dc"
      },
      "execution_count": null,
      "outputs": [
        {
          "output_type": "stream",
          "name": "stdout",
          "text": [
            "Не е добре\n",
            "Добре без if\n"
          ]
        }
      ]
    },
    {
      "cell_type": "code",
      "source": [
        "a = input()\n",
        "if int(a) < -5:\n",
        "  print('Ниска стойност')\n",
        "elif a == '0':\n",
        "  print('Нула')\n",
        "elif int(a) <= 5:\n",
        "  print('Средна стойност')\n",
        "else:\n",
        "  print('Висока стойност')"
      ],
      "metadata": {
        "colab": {
          "base_uri": "https://localhost:8080/"
        },
        "id": "uerb5iv79jd5",
        "outputId": "7ae280b2-3bed-40ab-d5e8-0b629329c3d2"
      },
      "execution_count": null,
      "outputs": [
        {
          "output_type": "stream",
          "name": "stdout",
          "text": [
            "0\n",
            "Нула\n"
          ]
        }
      ]
    },
    {
      "cell_type": "code",
      "source": [
        "a=10\n",
        "c=33\n",
        "x=int(input('Въведете x: '))\n",
        "if (x <= 4):\n",
        "  y = x - a\n",
        "elif (x >= 20):\n",
        "  y = x + c\n",
        "else:\n",
        "  y = x + a\n",
        "print('y = ', y)"
      ],
      "metadata": {
        "colab": {
          "base_uri": "https://localhost:8080/"
        },
        "id": "lEEG7_IiRArr",
        "outputId": "44ba1cb4-0469-46dd-d1d9-42fb7e3abe15"
      },
      "execution_count": null,
      "outputs": [
        {
          "output_type": "stream",
          "name": "stdout",
          "text": [
            "Въведете x: 5\n",
            "y =  15\n"
          ]
        }
      ]
    },
    {
      "cell_type": "code",
      "source": [
        "age = int(input('Въведи години: '))\n",
        "if (age < 60):\n",
        "  print('Ти си на ' + str(age) + ' години и не си пенсионер')\n",
        "else:\n",
        "  print('Ти си на ' + str(age) + ' години и си пенсионер')"
      ],
      "metadata": {
        "colab": {
          "base_uri": "https://localhost:8080/"
        },
        "id": "7a59_6nnTxAe",
        "outputId": "bdb192fd-f909-4941-b182-96757624b20c"
      },
      "execution_count": null,
      "outputs": [
        {
          "output_type": "stream",
          "name": "stdout",
          "text": [
            "Въведи години: 5\n",
            "Ти си на 5 години и не си пенсионер\n"
          ]
        }
      ]
    },
    {
      "cell_type": "code",
      "source": [
        "age = input('Въведи години: ')\n",
        "if (int(age) < 60):\n",
        "  print('Ти си на ' + age + ' години и не си пенсионер')\n",
        "else:\n",
        "  print('Ти си на ' + age + ' години и си пенсионер')"
      ],
      "metadata": {
        "colab": {
          "base_uri": "https://localhost:8080/"
        },
        "id": "yvvX1ObdU2VP",
        "outputId": "62b4da44-83ac-4498-f2ca-098794a0712a"
      },
      "execution_count": null,
      "outputs": [
        {
          "output_type": "stream",
          "name": "stdout",
          "text": [
            "Въведи години: 5\n",
            "Ти си на 5 години и не си пенсионер\n"
          ]
        }
      ]
    },
    {
      "cell_type": "code",
      "source": [
        "import random\n",
        "a = random.randint(1,49)\n",
        "print(a)\n",
        "a = random.randint(1,49)\n",
        "print(a)\n",
        "a = random.randint(1,49)\n",
        "print(a)\n",
        "a = random.randint(1,49)\n",
        "print(a)\n",
        "a = random.randint(1,49)\n",
        "print(a)\n",
        "a = random.randint(1,49)\n",
        "print(a)"
      ],
      "metadata": {
        "colab": {
          "base_uri": "https://localhost:8080/"
        },
        "id": "E97Wx68nXuuk",
        "outputId": "9d2a4ebf-60f4-4a68-f828-290258a9d389"
      },
      "execution_count": null,
      "outputs": [
        {
          "output_type": "stream",
          "name": "stdout",
          "text": [
            "30\n",
            "17\n",
            "16\n",
            "13\n",
            "16\n",
            "12\n"
          ]
        }
      ]
    },
    {
      "cell_type": "code",
      "source": [
        "x = 45\n",
        "y = 80\n",
        "while (x < 50 and y < 100):\n",
        "  x += 1\n",
        "  y += 1\n",
        "  \n",
        "\n",
        "print(x)\n",
        "print(y)"
      ],
      "metadata": {
        "colab": {
          "base_uri": "https://localhost:8080/"
        },
        "id": "9qmIS-nqZXkn",
        "outputId": "95b33246-ce51-46b6-bc6e-0853b85cbeb9"
      },
      "execution_count": null,
      "outputs": [
        {
          "output_type": "stream",
          "name": "stdout",
          "text": [
            "45\n",
            "100\n"
          ]
        }
      ]
    },
    {
      "cell_type": "code",
      "source": [
        "for i in 'hello world':\n",
        "  print(i * 5, end='\\n')"
      ],
      "metadata": {
        "colab": {
          "base_uri": "https://localhost:8080/"
        },
        "id": "rU2mww2McNv8",
        "outputId": "4d531dce-451c-4632-ffa6-525b2957ef26"
      },
      "execution_count": null,
      "outputs": [
        {
          "output_type": "stream",
          "name": "stdout",
          "text": [
            "hhhhh\n",
            "eeeee\n",
            "lllll\n",
            "lllll\n",
            "ooooo\n",
            "     \n",
            "wwwww\n",
            "ooooo\n",
            "rrrrr\n",
            "lllll\n",
            "ddddd\n"
          ]
        }
      ]
    },
    {
      "cell_type": "code",
      "source": [
        "import random\n",
        "for i in range(6):\n",
        "  a = random.randint(1,49)\n",
        "  print(a, end=' ')"
      ],
      "metadata": {
        "colab": {
          "base_uri": "https://localhost:8080/"
        },
        "id": "mCT3xnibdVys",
        "outputId": "75bd1b6d-b6b8-4077-f8d3-d904d6883b29"
      },
      "execution_count": null,
      "outputs": [
        {
          "output_type": "stream",
          "name": "stdout",
          "text": [
            "7 41 49 33 1 11 "
          ]
        }
      ]
    },
    {
      "cell_type": "code",
      "source": [
        "numbers = [-1,-2,-3,-4,5,6,7,8,20]\n",
        "sum = 0\n",
        "for i in numbers:\n",
        "  sum += i\n",
        "  print(i)\n",
        "print('Сумата е: ', sum)\n",
        "print(i)"
      ],
      "metadata": {
        "colab": {
          "base_uri": "https://localhost:8080/"
        },
        "id": "9iwSh379fFLy",
        "outputId": "aa766150-7174-4f9d-8721-875294afa81b"
      },
      "execution_count": null,
      "outputs": [
        {
          "output_type": "stream",
          "name": "stdout",
          "text": [
            "-1\n",
            "-2\n",
            "-3\n",
            "-4\n",
            "5\n",
            "6\n",
            "7\n",
            "8\n",
            "20\n",
            "Сумата е:  36\n",
            "20\n"
          ]
        }
      ]
    },
    {
      "cell_type": "code",
      "source": [
        "genre = ['pop', 'rock', 'jazz']\n",
        "for i in range(len(genre)):\n",
        "  print(genre[i])"
      ],
      "metadata": {
        "colab": {
          "base_uri": "https://localhost:8080/"
        },
        "id": "rvbQf69ei-RP",
        "outputId": "8ab171f2-73ff-4c4a-e78e-d4ddf7269ff5"
      },
      "execution_count": null,
      "outputs": [
        {
          "output_type": "stream",
          "name": "stdout",
          "text": [
            "pop\n",
            "rock\n",
            "jazz\n"
          ]
        }
      ]
    },
    {
      "cell_type": "code",
      "source": [
        "animal = ['dog', 'cat', 'bird', 'horse', 'turtle']\n",
        "a = input('Намислете си животно: ')\n",
        "b = 0\n",
        "for i in animal:\n",
        "  if i == a:\n",
        "    b = 1; break\n",
        "if b:\n",
        "    print('намисленото животно е от списъка');\n",
        "else:\n",
        "    print('Не познахте никое животно от списъка')"
      ],
      "metadata": {
        "colab": {
          "base_uri": "https://localhost:8080/"
        },
        "id": "Ic18ebCPk-BU",
        "outputId": "c5201538-8ed6-4d6d-b4d9-024908686b27"
      },
      "execution_count": null,
      "outputs": [
        {
          "output_type": "stream",
          "name": "stdout",
          "text": [
            "Намислете си животно: dog\n",
            "намисленото животно е от списъка\n"
          ]
        }
      ]
    },
    {
      "cell_type": "code",
      "source": [
        "for val in \"string\":\n",
        "  if val == \"i\":\n",
        "    continue\n",
        "  print(val)\n",
        "print(\"Край\")"
      ],
      "metadata": {
        "colab": {
          "base_uri": "https://localhost:8080/"
        },
        "id": "Pt0BHc3ak0KX",
        "outputId": "752c7bfe-e6b6-4c65-a498-c8d1836be272"
      },
      "execution_count": 3,
      "outputs": [
        {
          "output_type": "stream",
          "name": "stdout",
          "text": [
            "s\n",
            "t\n",
            "r\n",
            "n\n",
            "g\n",
            "Край\n"
          ]
        }
      ]
    },
    {
      "cell_type": "code",
      "source": [
        "color = [\"red\", \"blue\", \"yellow\", \"green\", \"black\", \"white\", \"brown\"]\n",
        "fruit = [\"banana\", \"apple\", \"kiwi\", \"grape\", \"lemon\", \"strawberry\"]\n",
        "for i in range(0,len(color),2):\n",
        "  for j in fruit:\n",
        "    print(color[i], j)"
      ],
      "metadata": {
        "colab": {
          "base_uri": "https://localhost:8080/"
        },
        "id": "sfKmknxxpECs",
        "outputId": "8996b883-a390-4325-b3fd-111dba475950"
      },
      "execution_count": 16,
      "outputs": [
        {
          "output_type": "stream",
          "name": "stdout",
          "text": [
            "red banana\n",
            "red apple\n",
            "red kiwi\n",
            "red grape\n",
            "red lemon\n",
            "red strawberry\n",
            "yellow banana\n",
            "yellow apple\n",
            "yellow kiwi\n",
            "yellow grape\n",
            "yellow lemon\n",
            "yellow strawberry\n",
            "black banana\n",
            "black apple\n",
            "black kiwi\n",
            "black grape\n",
            "black lemon\n",
            "black strawberry\n",
            "brown banana\n",
            "brown apple\n",
            "brown kiwi\n",
            "brown grape\n",
            "brown lemon\n",
            "brown strawberry\n"
          ]
        }
      ]
    },
    {
      "cell_type": "code",
      "source": [
        "a = 10\n",
        "a = str(a) + '\\n'\n",
        "print(a * 3)\n",
        "print('spam\\n' * 3)"
      ],
      "metadata": {
        "colab": {
          "base_uri": "https://localhost:8080/"
        },
        "id": "7MTWE8UQvPUa",
        "outputId": "d6b55e21-6945-4e8c-dbb4-91942967dbee"
      },
      "execution_count": 43,
      "outputs": [
        {
          "output_type": "stream",
          "name": "stdout",
          "text": [
            "10\n",
            "10\n",
            "10\n",
            "\n",
            "spam\n",
            "spam\n",
            "spam\n",
            "\n"
          ]
        }
      ]
    },
    {
      "cell_type": "code",
      "source": [
        "s = 'spameggs'\n",
        "print(s[3:5])\n",
        "print(s[2:-2])\n",
        "print(s[:6])\n",
        "print(s[1:])\n",
        "print(s[:])\n",
        "s = s[0] + 'b' + s[2:]\n",
        "print(s)"
      ],
      "metadata": {
        "colab": {
          "base_uri": "https://localhost:8080/"
        },
        "id": "G9AX33wnx3w6",
        "outputId": "3ea7d201-0094-41c6-9387-b35a73d97572"
      },
      "execution_count": 40,
      "outputs": [
        {
          "output_type": "stream",
          "name": "stdout",
          "text": [
            "me\n",
            "ameg\n",
            "spameg\n",
            "pameggs\n",
            "spameggs\n",
            "sbameggs\n"
          ]
        }
      ]
    },
    {
      "cell_type": "code",
      "source": [
        "a = [66.25, 333, 333, 1, 1234.5]\n",
        "a\n",
        "print(a.count(333), a.count(66.25), a.count('x'))\n",
        "a.insert(2, -1)\n",
        "a\n",
        "#print(a)\n",
        "a.append(333)\n",
        "a\n",
        "#print(a)\n",
        "print(a.index(333))\n",
        "#print(a)\n",
        "a.remove(333)\n",
        "print(a)\n",
        "a.reverse()\n",
        "a\n",
        "#print(a)\n",
        "#a.sort()\n",
        "#a\n",
        "#a.sort(reverse = True)\n",
        "#a\n",
        "#print(a)"
      ],
      "metadata": {
        "colab": {
          "base_uri": "https://localhost:8080/"
        },
        "id": "XmPnAjaW1C6K",
        "outputId": "ef4623bd-8d03-40ad-c4e0-f9510ac15942"
      },
      "execution_count": 64,
      "outputs": [
        {
          "output_type": "stream",
          "name": "stdout",
          "text": [
            "2 1 0\n",
            "1\n",
            "[66.25, -1, 333, 1, 1234.5, 333]\n"
          ]
        },
        {
          "output_type": "execute_result",
          "data": {
            "text/plain": [
              "[333, 1234.5, 1, 333, -1, 66.25]"
            ]
          },
          "metadata": {},
          "execution_count": 64
        }
      ]
    },
    {
      "cell_type": "code",
      "source": [
        "import random\n",
        "randomlist = []\n",
        "for i in range(0,5):\n",
        "  n = random.randint(1,30)\n",
        "  randomlist.append(n)\n",
        "print(randomlist)"
      ],
      "metadata": {
        "colab": {
          "base_uri": "https://localhost:8080/"
        },
        "id": "NQCa5yX9-8P5",
        "outputId": "22d1d79b-d898-4898-cf25-6609e84bcc22"
      },
      "execution_count": 65,
      "outputs": [
        {
          "output_type": "stream",
          "name": "stdout",
          "text": [
            "[9, 6, 13, 30, 13]\n"
          ]
        }
      ]
    },
    {
      "cell_type": "code",
      "source": [
        "import random\n",
        "randomlist = []\n",
        "for i in range(0,5):\n",
        "  n = random.randint(1,30)\n",
        "randomlist.append(n)\n",
        "print(randomlist)"
      ],
      "metadata": {
        "colab": {
          "base_uri": "https://localhost:8080/"
        },
        "id": "NtFQGTj-_P0w",
        "outputId": "c05b21e6-6c81-495f-aedc-a06b6c01f712"
      },
      "execution_count": 72,
      "outputs": [
        {
          "output_type": "stream",
          "name": "stdout",
          "text": [
            "[17]\n"
          ]
        }
      ]
    },
    {
      "cell_type": "code",
      "source": [
        "a = [1,3,8,7]\n",
        "a[0]\n",
        "a[3]\n",
        "#a[4]\n",
        "a[-2]"
      ],
      "metadata": {
        "colab": {
          "base_uri": "https://localhost:8080/"
        },
        "id": "XvWFRofdBSoU",
        "outputId": "4e1744c5-4282-43dc-dc80-d13ad809623f"
      },
      "execution_count": 79,
      "outputs": [
        {
          "output_type": "execute_result",
          "data": {
            "text/plain": [
              "8"
            ]
          },
          "metadata": {},
          "execution_count": 79
        }
      ]
    },
    {
      "cell_type": "code",
      "source": [
        "def maximum(a, b, c):\n",
        "  if a > b:\n",
        "    if a > c:\n",
        "      return a\n",
        "    else:\n",
        "      return c\n",
        "  elif b > c:\n",
        "    return b\n",
        "  else:\n",
        "    return c\n",
        "print(maximum (7, 5, 3))\n",
        "print(maximum (4, 5, 3))\n",
        "maximum (1, 2, 6)"
      ],
      "metadata": {
        "colab": {
          "base_uri": "https://localhost:8080/"
        },
        "id": "0jf_FFb-CkDe",
        "outputId": "aa96a584-2274-48a4-8340-3b3ee5dc11f4"
      },
      "execution_count": 119,
      "outputs": [
        {
          "output_type": "stream",
          "name": "stdout",
          "text": [
            "7\n",
            "5\n"
          ]
        },
        {
          "output_type": "execute_result",
          "data": {
            "text/plain": [
              "6"
            ]
          },
          "metadata": {},
          "execution_count": 119
        }
      ]
    },
    {
      "cell_type": "code",
      "source": [
        "def testfunc(myname):\n",
        "  print(\"Hello %s.\" %myname, \"How are you %s.\" %myname)\n",
        "  print(\"Hello\", myname, \". How are you\", myname)\n",
        "testfunc(\"Maria\")"
      ],
      "metadata": {
        "colab": {
          "base_uri": "https://localhost:8080/"
        },
        "id": "y9yMa_JyEJdY",
        "outputId": "4e44aaee-ad7e-400e-c40e-652d2f865a89"
      },
      "execution_count": 115,
      "outputs": [
        {
          "output_type": "stream",
          "name": "stdout",
          "text": [
            "Hello Maria. How are you Maria.\n",
            "Hello Maria . How are you Maria\n"
          ]
        }
      ]
    },
    {
      "cell_type": "code",
      "source": [
        "def maximum2(a, b, c, d, e):\n",
        "  return max(a, b, c, d, e)\n",
        "maximum2(8, 5, 3, 9, 11)"
      ],
      "metadata": {
        "colab": {
          "base_uri": "https://localhost:8080/"
        },
        "id": "Fosaelm8K4Xw",
        "outputId": "a83cde39-1dea-4df1-faf4-7eb59b6bf0a5"
      },
      "execution_count": 125,
      "outputs": [
        {
          "output_type": "execute_result",
          "data": {
            "text/plain": [
              "11"
            ]
          },
          "metadata": {},
          "execution_count": 125
        }
      ]
    },
    {
      "cell_type": "code",
      "source": [
        "import matplotlib.pyplot as plt\n",
        "x = [1,3,5,7,2,1]\n",
        "y = [2,4,3,5,8,2]\n",
        "plt.plot(x,y)\n",
        "plt.xlabel(\"X-oc\")\n",
        "plt.ylabel(\"Y-oc\")\n",
        "plt.title(\"Graphic\")\n",
        "plt.show()"
      ],
      "metadata": {
        "colab": {
          "base_uri": "https://localhost:8080/",
          "height": 295
        },
        "id": "G-46bwVkfNB2",
        "outputId": "aff17d77-6409-4458-bffd-93bff0568380"
      },
      "execution_count": 136,
      "outputs": [
        {
          "output_type": "display_data",
          "data": {
            "text/plain": [
              "<Figure size 432x288 with 1 Axes>"
            ],
            "image/png": "[encoded data removed]"
          },
          "metadata": {
            "needs_background": "light"
          }
        }
      ]
    },
    {
      "cell_type": "code",
      "source": [
        "import matplotlib.pyplot as plt\n",
        "import random\n",
        "x = []\n",
        "y = []\n",
        "for i in range(0,5):\n",
        "  x.append(random.randint(1,10))\n",
        "  y.append(random.randint(1,10))\n",
        "print(x,y)\n",
        "plt.plot(x,y)\n",
        "plt.xlabel(\"X-oc\")\n",
        "plt.ylabel(\"Y-oc\")\n",
        "plt.title(\"Graphic\")\n",
        "plt.show()"
      ],
      "metadata": {
        "colab": {
          "base_uri": "https://localhost:8080/",
          "height": 312
        },
        "id": "gpL9x-fudn9A",
        "outputId": "ab372046-3752-4306-b8b6-16d0dd00c762"
      },
      "execution_count": 142,
      "outputs": [
        {
          "output_type": "stream",
          "name": "stdout",
          "text": [
            "[7, 5, 5, 1, 2] [3, 5, 1, 4, 10]\n"
          ]
        },
        {
          "output_type": "display_data",
          "data": {
            "text/plain": [
              "<Figure size 432x288 with 1 Axes>"
            ],
            "image/png": "[encoded data removed]"
          },
          "metadata": {
            "needs_background": "light"
          }
        }
      ]
    },
    {
      "cell_type": "code",
      "source": [
        "import random\n",
        "def kvadrat(n):\n",
        "  return n * n\n",
        "x = []\n",
        "for i in range(0,10):\n",
        "  m = random.randint(5,35)\n",
        "  x.append(m)\n",
        "print(x)\n",
        "for i in range(0,10):\n",
        "  x[i] = kvadrat(x[i])\n",
        "print(x)"
      ],
      "metadata": {
        "colab": {
          "base_uri": "https://localhost:8080/"
        },
        "id": "om9UOJiNhpAR",
        "outputId": "c2378d15-2f4d-45f0-a93e-d35060b59ce9"
      },
      "execution_count": 148,
      "outputs": [
        {
          "output_type": "stream",
          "name": "stdout",
          "text": [
            "[18, 32, 24, 19, 10, 18, 33, 6, 25, 23]\n",
            "[324, 1024, 576, 361, 100, 324, 1089, 36, 625, 529]\n"
          ]
        }
      ]
    },
    {
      "cell_type": "code",
      "source": [
        "!pip install ColabTurtle"
      ],
      "metadata": {
        "colab": {
          "base_uri": "https://localhost:8080/"
        },
        "id": "S6cKvISPmIMY",
        "outputId": "07a61dc1-d8cf-40e2-bc2c-a92acba608c9"
      },
      "execution_count": 150,
      "outputs": [
        {
          "output_type": "stream",
          "name": "stdout",
          "text": [
            "Looking in indexes: https://pypi.org/simple, https://us-python.pkg.dev/colab-wheels/public/simple/\n",
            "Requirement already satisfied: ColabTurtle in /usr/local/lib/python3.8/dist-packages (2.1.0)\n"
          ]
        }
      ]
    },
    {
      "cell_type": "code",
      "source": [
        "from ColabTurtle.Turtle import*"
      ],
      "metadata": {
        "id": "8ZigYy6lmTVY"
      },
      "execution_count": 152,
      "outputs": []
    },
    {
      "cell_type": "code",
      "source": [
        "initializeTurtle()"
      ],
      "metadata": {
        "colab": {
          "base_uri": "https://localhost:8080/",
          "height": 521
        },
        "id": "NoS0BvMgmdvB",
        "outputId": "578ed79a-c6ba-45e9-da2f-4a5e1a5e4055"
      },
      "execution_count": 153,
      "outputs": [
        {
          "output_type": "display_data",
          "data": {
            "text/plain": [
              "<IPython.core.display.HTML object>"
            ],
            "text/html": [
              "\n",
              "      <svg width=\"800\" height=\"500\">\n",
              "        <rect width=\"100%\" height=\"100%\" fill=\"black\"/>\n",
              "        \n",
              "        <g visibility=visible transform=\"rotate(360,400,250) translate(382, 232)\">\n",
              "<path style=\" stroke:none;fill-rule:evenodd;fill:white;fill-opacity:1;\" d=\"M 18.214844 0.632812 C 16.109375 1.800781 15.011719 4.074219 15.074219 7.132812 L 15.085938 7.652344 L 14.785156 7.496094 C 13.476562 6.824219 11.957031 6.671875 10.40625 7.066406 C 8.46875 7.550781 6.515625 9.15625 4.394531 11.992188 C 3.0625 13.777344 2.679688 14.636719 3.042969 15.027344 L 3.15625 15.152344 L 3.519531 15.152344 C 4.238281 15.152344 4.828125 14.886719 8.1875 13.039062 C 9.386719 12.378906 10.371094 11.839844 10.378906 11.839844 C 10.386719 11.839844 10.355469 11.929688 10.304688 12.035156 C 9.832031 13.09375 9.257812 14.820312 8.96875 16.078125 C 7.914062 20.652344 8.617188 24.53125 11.070312 27.660156 C 11.351562 28.015625 11.363281 27.914062 10.972656 28.382812 C 8.925781 30.84375 7.945312 33.28125 8.238281 35.1875 C 8.289062 35.527344 8.28125 35.523438 8.917969 35.523438 C 10.941406 35.523438 13.074219 34.207031 15.136719 31.6875 C 15.359375 31.417969 15.328125 31.425781 15.5625 31.574219 C 16.292969 32.042969 18.023438 32.964844 18.175781 32.964844 C 18.335938 32.964844 19.941406 32.210938 20.828125 31.71875 C 20.996094 31.625 21.136719 31.554688 21.136719 31.558594 C 21.203125 31.664062 21.898438 32.414062 22.222656 32.730469 C 23.835938 34.300781 25.5625 35.132812 27.582031 35.300781 C 27.90625 35.328125 27.9375 35.308594 28.007812 34.984375 C 28.382812 33.242188 27.625 30.925781 25.863281 28.425781 L 25.542969 27.96875 L 25.699219 27.785156 C 28.945312 23.960938 29.132812 18.699219 26.257812 11.96875 L 26.207031 11.84375 L 27.945312 12.703125 C 31.53125 14.476562 32.316406 14.800781 33.03125 14.800781 C 33.976562 14.800781 33.78125 13.9375 32.472656 12.292969 C 28.519531 7.355469 25.394531 5.925781 21.921875 7.472656 L 21.558594 7.636719 L 21.578125 7.542969 C 21.699219 6.992188 21.761719 5.742188 21.699219 5.164062 C 21.496094 3.296875 20.664062 1.964844 19.003906 0.855469 C 18.480469 0.503906 18.457031 0.5 18.214844 0.632812\"/>\n",
              "</g>\n",
              "      </svg>\n",
              "    "
            ]
          },
          "metadata": {}
        }
      ]
    },
    {
      "cell_type": "code",
      "source": [
        "side = int(input(\"Length of size: \"))\n",
        "clear()\n",
        "for i in range(5):\n",
        "  forward(side)\n",
        "  left(72)"
      ],
      "metadata": {
        "colab": {
          "base_uri": "https://localhost:8080/",
          "height": 538
        },
        "id": "_g8EK-q5mqHH",
        "outputId": "5492f403-6019-4227-f2f8-693dab53a4fc"
      },
      "execution_count": 160,
      "outputs": [
        {
          "name": "stdout",
          "output_type": "stream",
          "text": [
            "Length of size: 100\n"
          ]
        },
        {
          "output_type": "display_data",
          "data": {
            "text/plain": [
              "<IPython.core.display.HTML object>"
            ],
            "text/html": [
              "\n",
              "      <svg width=\"800\" height=\"500\">\n",
              "        <rect width=\"100%\" height=\"100%\" fill=\"black\"/>\n",
              "        <line x1=\"400.0\" y1=\"250.0\" x2=\"400.0\" y2=\"150.0\" stroke-linecap=\"round\" style=\"stroke:white;stroke-width:4\"/><line x1=\"400.0\" y1=\"150.0\" x2=\"304.894\" y2=\"119.098\" stroke-linecap=\"round\" style=\"stroke:white;stroke-width:4\"/><line x1=\"304.894\" y1=\"119.098\" x2=\"246.115\" y2=\"200.0\" stroke-linecap=\"round\" style=\"stroke:white;stroke-width:4\"/><line x1=\"246.115\" y1=\"200.0\" x2=\"304.894\" y2=\"280.902\" stroke-linecap=\"round\" style=\"stroke:white;stroke-width:4\"/><line x1=\"304.894\" y1=\"280.902\" x2=\"400.0\" y2=\"250.0\" stroke-linecap=\"round\" style=\"stroke:white;stroke-width:4\"/>\n",
              "        <g visibility=visible transform=\"rotate(360,400.0,250.0) translate(382.0, 232.0)\">\n",
              "<path style=\" stroke:none;fill-rule:evenodd;fill:white;fill-opacity:1;\" d=\"M 18.214844 0.632812 C 16.109375 1.800781 15.011719 4.074219 15.074219 7.132812 L 15.085938 7.652344 L 14.785156 7.496094 C 13.476562 6.824219 11.957031 6.671875 10.40625 7.066406 C 8.46875 7.550781 6.515625 9.15625 4.394531 11.992188 C 3.0625 13.777344 2.679688 14.636719 3.042969 15.027344 L 3.15625 15.152344 L 3.519531 15.152344 C 4.238281 15.152344 4.828125 14.886719 8.1875 13.039062 C 9.386719 12.378906 10.371094 11.839844 10.378906 11.839844 C 10.386719 11.839844 10.355469 11.929688 10.304688 12.035156 C 9.832031 13.09375 9.257812 14.820312 8.96875 16.078125 C 7.914062 20.652344 8.617188 24.53125 11.070312 27.660156 C 11.351562 28.015625 11.363281 27.914062 10.972656 28.382812 C 8.925781 30.84375 7.945312 33.28125 8.238281 35.1875 C 8.289062 35.527344 8.28125 35.523438 8.917969 35.523438 C 10.941406 35.523438 13.074219 34.207031 15.136719 31.6875 C 15.359375 31.417969 15.328125 31.425781 15.5625 31.574219 C 16.292969 32.042969 18.023438 32.964844 18.175781 32.964844 C 18.335938 32.964844 19.941406 32.210938 20.828125 31.71875 C 20.996094 31.625 21.136719 31.554688 21.136719 31.558594 C 21.203125 31.664062 21.898438 32.414062 22.222656 32.730469 C 23.835938 34.300781 25.5625 35.132812 27.582031 35.300781 C 27.90625 35.328125 27.9375 35.308594 28.007812 34.984375 C 28.382812 33.242188 27.625 30.925781 25.863281 28.425781 L 25.542969 27.96875 L 25.699219 27.785156 C 28.945312 23.960938 29.132812 18.699219 26.257812 11.96875 L 26.207031 11.84375 L 27.945312 12.703125 C 31.53125 14.476562 32.316406 14.800781 33.03125 14.800781 C 33.976562 14.800781 33.78125 13.9375 32.472656 12.292969 C 28.519531 7.355469 25.394531 5.925781 21.921875 7.472656 L 21.558594 7.636719 L 21.578125 7.542969 C 21.699219 6.992188 21.761719 5.742188 21.699219 5.164062 C 21.496094 3.296875 20.664062 1.964844 19.003906 0.855469 C 18.480469 0.503906 18.457031 0.5 18.214844 0.632812\"/>\n",
              "</g>\n",
              "      </svg>\n",
              "    "
            ]
          },
          "metadata": {}
        }
      ]
    }
  ]
}