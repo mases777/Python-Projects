{
  "nbformat": 4,
  "nbformat_minor": 0,
  "metadata": {
    "colab": {
      "provenance": [],
      "authorship_tag": "ABX9TyNnPdnghdwq6m3AjutDVGF3",
      "include_colab_link": true
    },
    "kernelspec": {
      "name": "python3",
      "display_name": "Python 3"
    },
    "language_info": {
      "name": "python"
    }
  },
  "cells": [
    {
      "cell_type": "markdown",
      "metadata": {
        "id": "view-in-github",
        "colab_type": "text"
      },
      "source": [
        "<a href=\"https://colab.research.google.com/github/mases777/Python-Projects/blob/main/First01.ipynb\" target=\"_parent\"><img src=\"https://colab.research.google.com/assets/colab-badge.svg\" alt=\"Open In Colab\"/></a>"
      ]
    },
    {
      "cell_type": "code",
      "execution_count": 3,
      "metadata": {
        "colab": {
          "base_uri": "https://localhost:8080/"
        },
        "id": "yLOya2wEp2MA",
        "outputId": "ffeed0a3-8a11-46a8-a9a7-396da2ff871c"
      },
      "outputs": [
        {
          "output_type": "execute_result",
          "data": {
            "text/plain": [
              "86400"
            ]
          },
          "metadata": {},
          "execution_count": 3
        }
      ],
      "source": [
        "24*60*60"
      ]
    },
    {
      "cell_type": "code",
      "source": [
        "rez=45\n",
        "rez += 20\n",
        "print(rez)"
      ],
      "metadata": {
        "colab": {
          "base_uri": "https://localhost:8080/"
        },
        "id": "g_f3JWlpsYg4",
        "outputId": "56010391-1888-4b69-f1bb-96c7488612c4"
      },
      "execution_count": 6,
      "outputs": [
        {
          "output_type": "stream",
          "name": "stdout",
          "text": [
            "65\n"
          ]
        }
      ]
    },
    {
      "cell_type": "code",
      "source": [
        "print('Здравей')\n",
        "print(5*2+6)\n",
        "name=input(\"Как се казваш? \")\n",
        "print(\"Здравей, \", name)"
      ],
      "metadata": {
        "colab": {
          "base_uri": "https://localhost:8080/"
        },
        "id": "XhUX-MkZ3nJB",
        "outputId": "0a0ae6f8-a7b4-4bad-cd27-39ee4704f179"
      },
      "execution_count": 7,
      "outputs": [
        {
          "output_type": "stream",
          "name": "stdout",
          "text": [
            "Здравей\n",
            "16\n",
            "Как се казваш? Ivan\n",
            "Здравей,  Ivan\n"
          ]
        }
      ]
    },
    {
      "cell_type": "code",
      "source": [
        "a=6; b=9; f=7;\n",
        "if(a==1 or b==3 or f==4):\n",
        "  print(\"Добре\")\n",
        "else:\n",
        "  print(\"Не е добре\")\n",
        "print(\"Добре без if\")"
      ],
      "metadata": {
        "colab": {
          "base_uri": "https://localhost:8080/"
        },
        "id": "0K4ZxU8e5Y3x",
        "outputId": "e1113d61-4470-442d-eddc-832e922172dc"
      },
      "execution_count": 12,
      "outputs": [
        {
          "output_type": "stream",
          "name": "stdout",
          "text": [
            "Не е добре\n",
            "Добре без if\n"
          ]
        }
      ]
    },
    {
      "cell_type": "code",
      "source": [
        "a = input()\n",
        "if int(a) < -5:\n",
        "  print('Ниска стойност')\n",
        "elif a == '0':\n",
        "  print('Нула')\n",
        "elif int(a) <= 5:\n",
        "  print('Средна стойност')\n",
        "else:\n",
        "  print('Висока стойност')"
      ],
      "metadata": {
        "colab": {
          "base_uri": "https://localhost:8080/"
        },
        "id": "uerb5iv79jd5",
        "outputId": "7ae280b2-3bed-40ab-d5e8-0b629329c3d2"
      },
      "execution_count": 26,
      "outputs": [
        {
          "output_type": "stream",
          "name": "stdout",
          "text": [
            "0\n",
            "Нула\n"
          ]
        }
      ]
    },
    {
      "cell_type": "code",
      "source": [
        "a=10\n",
        "c=33\n",
        "x=int(input('Въведете x: '))\n",
        "if (x <= 4):\n",
        "  y = x - a\n",
        "elif (x >= 20):\n",
        "  y = x + c\n",
        "else:\n",
        "  y = x + a\n",
        "print('y = ', y)"
      ],
      "metadata": {
        "colab": {
          "base_uri": "https://localhost:8080/"
        },
        "id": "lEEG7_IiRArr",
        "outputId": "44ba1cb4-0469-46dd-d1d9-42fb7e3abe15"
      },
      "execution_count": 29,
      "outputs": [
        {
          "output_type": "stream",
          "name": "stdout",
          "text": [
            "Въведете x: 5\n",
            "y =  15\n"
          ]
        }
      ]
    },
    {
      "cell_type": "code",
      "source": [
        "age = int(input('Въведи години: '))\n",
        "if (age < 60):\n",
        "  print('Ти си на ' + str(age) + ' години и не си пенсионер')\n",
        "else:\n",
        "  print('Ти си на ' + str(age) + ' години и си пенсионер')"
      ],
      "metadata": {
        "colab": {
          "base_uri": "https://localhost:8080/"
        },
        "id": "7a59_6nnTxAe",
        "outputId": "bdb192fd-f909-4941-b182-96757624b20c"
      },
      "execution_count": 31,
      "outputs": [
        {
          "output_type": "stream",
          "name": "stdout",
          "text": [
            "Въведи години: 5\n",
            "Ти си на 5 години и не си пенсионер\n"
          ]
        }
      ]
    },
    {
      "cell_type": "code",
      "source": [
        "age = input('Въведи години: ')\n",
        "if (int(age) < 60):\n",
        "  print('Ти си на ' + age + ' години и не си пенсионер')\n",
        "else:\n",
        "  print('Ти си на ' + age + ' години и си пенсионер')"
      ],
      "metadata": {
        "colab": {
          "base_uri": "https://localhost:8080/"
        },
        "id": "yvvX1ObdU2VP",
        "outputId": "62b4da44-83ac-4498-f2ca-098794a0712a"
      },
      "execution_count": 32,
      "outputs": [
        {
          "output_type": "stream",
          "name": "stdout",
          "text": [
            "Въведи години: 5\n",
            "Ти си на 5 години и не си пенсионер\n"
          ]
        }
      ]
    },
    {
      "cell_type": "code",
      "source": [
        "import random\n",
        "a = random.randint(1,49)\n",
        "print(a)\n",
        "a = random.randint(1,49)\n",
        "print(a)\n",
        "a = random.randint(1,49)\n",
        "print(a)\n",
        "a = random.randint(1,49)\n",
        "print(a)\n",
        "a = random.randint(1,49)\n",
        "print(a)\n",
        "a = random.randint(1,49)\n",
        "print(a)"
      ],
      "metadata": {
        "colab": {
          "base_uri": "https://localhost:8080/"
        },
        "id": "E97Wx68nXuuk",
        "outputId": "9d2a4ebf-60f4-4a68-f828-290258a9d389"
      },
      "execution_count": 44,
      "outputs": [
        {
          "output_type": "stream",
          "name": "stdout",
          "text": [
            "30\n",
            "17\n",
            "16\n",
            "13\n",
            "16\n",
            "12\n"
          ]
        }
      ]
    },
    {
      "cell_type": "code",
      "source": [
        "x = 45\n",
        "y = 80\n",
        "while (x < 50 and y < 100):\n",
        "  x += 1\n",
        "  y += 1\n",
        "  \n",
        "\n",
        "print(x)\n",
        "print(y)"
      ],
      "metadata": {
        "colab": {
          "base_uri": "https://localhost:8080/"
        },
        "id": "9qmIS-nqZXkn",
        "outputId": "95b33246-ce51-46b6-bc6e-0853b85cbeb9"
      },
      "execution_count": 53,
      "outputs": [
        {
          "output_type": "stream",
          "name": "stdout",
          "text": [
            "45\n",
            "100\n"
          ]
        }
      ]
    },
    {
      "cell_type": "code",
      "source": [
        "for i in 'hello world':\n",
        "  print(i * 5, end='\\n')"
      ],
      "metadata": {
        "colab": {
          "base_uri": "https://localhost:8080/"
        },
        "id": "rU2mww2McNv8",
        "outputId": "4d531dce-451c-4632-ffa6-525b2957ef26"
      },
      "execution_count": 59,
      "outputs": [
        {
          "output_type": "stream",
          "name": "stdout",
          "text": [
            "hhhhh\n",
            "eeeee\n",
            "lllll\n",
            "lllll\n",
            "ooooo\n",
            "     \n",
            "wwwww\n",
            "ooooo\n",
            "rrrrr\n",
            "lllll\n",
            "ddddd\n"
          ]
        }
      ]
    },
    {
      "cell_type": "code",
      "source": [
        "import random\n",
        "for i in range(6):\n",
        "  a = random.randint(1,49)\n",
        "  print(a, end=' ')"
      ],
      "metadata": {
        "colab": {
          "base_uri": "https://localhost:8080/"
        },
        "id": "mCT3xnibdVys",
        "outputId": "75bd1b6d-b6b8-4077-f8d3-d904d6883b29"
      },
      "execution_count": 72,
      "outputs": [
        {
          "output_type": "stream",
          "name": "stdout",
          "text": [
            "7 41 49 33 1 11 "
          ]
        }
      ]
    },
    {
      "cell_type": "code",
      "source": [
        "numbers = [-1,-2,-3,-4,5,6,7,8,20]\n",
        "sum = 0\n",
        "for i in numbers:\n",
        "  sum += i\n",
        "  print(i)\n",
        "print('Сумата е: ', sum)\n",
        "print(i)"
      ],
      "metadata": {
        "colab": {
          "base_uri": "https://localhost:8080/"
        },
        "id": "9iwSh379fFLy",
        "outputId": "aa766150-7174-4f9d-8721-875294afa81b"
      },
      "execution_count": 76,
      "outputs": [
        {
          "output_type": "stream",
          "name": "stdout",
          "text": [
            "-1\n",
            "-2\n",
            "-3\n",
            "-4\n",
            "5\n",
            "6\n",
            "7\n",
            "8\n",
            "20\n",
            "Сумата е:  36\n",
            "20\n"
          ]
        }
      ]
    },
    {
      "cell_type": "code",
      "source": [
        "genre = ['pop', 'rock', 'jazz']\n",
        "for i in range(len(genre)):\n",
        "  print(genre[i])"
      ],
      "metadata": {
        "colab": {
          "base_uri": "https://localhost:8080/"
        },
        "id": "rvbQf69ei-RP",
        "outputId": "8ab171f2-73ff-4c4a-e78e-d4ddf7269ff5"
      },
      "execution_count": 78,
      "outputs": [
        {
          "output_type": "stream",
          "name": "stdout",
          "text": [
            "pop\n",
            "rock\n",
            "jazz\n"
          ]
        }
      ]
    },
    {
      "cell_type": "code",
      "source": [
        "animal = ['dog', 'cat', 'bird', 'horse', 'turtle']\n",
        "a = input('Намислете си животно: ')\n",
        "b = 0\n",
        "for i in animal:\n",
        "  if i == a:\n",
        "    b = 1; break\n",
        "if b:\n",
        "    print('намисленото животно е от списъка');\n",
        "else:\n",
        "    print('Не познахте никое животно от списъка')"
      ],
      "metadata": {
        "colab": {
          "base_uri": "https://localhost:8080/"
        },
        "id": "Ic18ebCPk-BU",
        "outputId": "c5201538-8ed6-4d6d-b4d9-024908686b27"
      },
      "execution_count": 88,
      "outputs": [
        {
          "output_type": "stream",
          "name": "stdout",
          "text": [
            "Намислете си животно: dog\n",
            "намисленото животно е от списъка\n"
          ]
        }
      ]
    }
  ]
}